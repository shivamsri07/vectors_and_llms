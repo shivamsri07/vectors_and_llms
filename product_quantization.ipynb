{
  "nbformat": 4,
  "nbformat_minor": 0,
  "metadata": {
    "colab": {
      "provenance": [],
      "authorship_tag": "ABX9TyO8rRtT0iGkyFt39tgBBPei",
      "include_colab_link": true
    },
    "kernelspec": {
      "name": "python3",
      "display_name": "Python 3"
    },
    "language_info": {
      "name": "python"
    }
  },
  "cells": [
    {
      "cell_type": "markdown",
      "metadata": {
        "id": "view-in-github",
        "colab_type": "text"
      },
      "source": [
        "<a href=\"https://colab.research.google.com/github/shivamsri07/vectors_and_llms/blob/main/product_quantization.ipynb\" target=\"_parent\"><img src=\"https://colab.research.google.com/assets/colab-badge.svg\" alt=\"Open In Colab\"/></a>"
      ]
    },
    {
      "cell_type": "code",
      "source": [
        "import numpy as np\n",
        "from sklearn.cluster import KMeans\n",
        "\n",
        "# Example 4D vectors\n",
        "vectors = np.random.rand(10, 4) # 10 vectors, 4 dimensions each\n",
        "\n",
        "# Step 1: Create codebook of centroids\n",
        "# We need to split the 4D vector into subvectors for Product Quantization.\n",
        "# Let's split it into 2 subvectors of 2 dimensions each.\n",
        "vectors_sub1 = vectors[:, :2]\n",
        "vectors_sub2 = vectors[:, 2:]\n",
        "\n",
        "k = 2 # Number of centroids for each subvector space\n",
        "\n",
        "# Perform K-Means on each subvector space\n",
        "kmeans_sub1 = KMeans(n_clusters=k, random_state=0, n_init=10)\n",
        "kmeans_sub1.fit(vectors_sub1)\n",
        "codebook_sub1 = kmeans_sub1.cluster_centers_\n",
        "\n",
        "kmeans_sub2 = KMeans(n_clusters=k, random_state=0, n_init=10)\n",
        "kmeans_sub2.fit(vectors_sub2)\n",
        "codebook_sub2 = kmeans_sub2.cluster_centers_\n",
        "\n",
        "# The codebook is a combination of codebook_sub1 and codebook_sub2\n",
        "\n",
        "# Step 2: Take a new 4D vector and decode it (approximate it)\n",
        "new_vector = np.random.rand(4)\n",
        "\n",
        "# Split the new vector into subvectors\n",
        "new_vector_sub1 = new_vector[:2].reshape(1, -1)\n",
        "new_vector_sub2 = new_vector[2:].reshape(1, -1)\n",
        "\n",
        "# Find the closest centroid in each codebook for the corresponding subvector\n",
        "closest_centroid_idx_sub1 = kmeans_sub1.predict(new_vector_sub1)[0]\n",
        "closest_centroid_sub1 = codebook_sub1[closest_centroid_idx_sub1]\n",
        "\n",
        "closest_centroid_idx_sub2 = kmeans_sub2.predict(new_vector_sub2)[0]\n",
        "closest_centroid_sub2 = codebook_sub2[closest_centroid_idx_sub2]\n",
        "\n",
        "# Decode the vector by concatenating the closest centroids\n",
        "decoded_vector = np.concatenate((closest_centroid_sub1, closest_centroid_sub2))\n",
        "\n",
        "print(\"Original Vector:\", new_vector)\n",
        "print(\"Decoded Vector (Approximation):\", decoded_vector)\n",
        "print(\"Product Code of input vector:\", (closest_centroid_idx_sub1, closest_centroid_idx_sub2))\n",
        "print(\"Codebook Subvector 1:\", codebook_sub1)\n",
        "print(\"Codebook Subvector 2:\", codebook_sub2)\n"
      ],
      "metadata": {
        "colab": {
          "base_uri": "https://localhost:8080/"
        },
        "id": "USSjVU4kQz6S",
        "outputId": "a89b0410-26af-431c-bfa3-bf98d228d8e6"
      },
      "execution_count": 18,
      "outputs": [
        {
          "output_type": "stream",
          "name": "stdout",
          "text": [
            "Original Vector: [0.2855435  0.00769788 0.14704744 0.24921835]\n",
            "Decoded Vector (Approximation): [0.69388635 0.25340995 0.24877843 0.43063217]\n",
            "Product Code of input vector: (np.int32(1), np.int32(0))\n",
            "Codebook Subvector 1: [[0.42202695 0.76837174]\n",
            " [0.69388635 0.25340995]]\n",
            "Codebook Subvector 2: [[0.24877843 0.43063217]\n",
            " [0.5251123  0.87305405]]\n"
          ]
        }
      ]
    },
    {
      "cell_type": "code",
      "source": [
        "# Generate product codes for all original vectors\n",
        "product_codes = []\n",
        "for vector in vectors:\n",
        "  vector_sub1 = vector[:2].reshape(1, -1)\n",
        "  vector_sub2 = vector[2:].reshape(1, -1)\n",
        "\n",
        "  closest_centroid_idx_sub1 = kmeans_sub1.predict(vector_sub1)[0]\n",
        "  closest_centroid_idx_sub2 = kmeans_sub2.predict(vector_sub2)[0]\n",
        "\n",
        "  product_codes.append((closest_centroid_idx_sub1, closest_centroid_idx_sub2))\n",
        "\n",
        "print(\"\\nProduct Codes of Original Vectors:\")\n",
        "for i, code in enumerate(product_codes):\n",
        "  print(f\"Vector {i}: {code}\")\n",
        "\n",
        "\n"
      ],
      "metadata": {
        "colab": {
          "base_uri": "https://localhost:8080/"
        },
        "id": "kgUGBIn6SXmW",
        "outputId": "996aa631-39f8-4b3d-9eb7-7737049e2c09"
      },
      "execution_count": 19,
      "outputs": [
        {
          "output_type": "stream",
          "name": "stdout",
          "text": [
            "\n",
            "Product Codes of Original Vectors:\n",
            "Vector 0: (np.int32(1), np.int32(0))\n",
            "Vector 1: (np.int32(1), np.int32(0))\n",
            "Vector 2: (np.int32(1), np.int32(0))\n",
            "Vector 3: (np.int32(1), np.int32(0))\n",
            "Vector 4: (np.int32(0), np.int32(1))\n",
            "Vector 5: (np.int32(1), np.int32(1))\n",
            "Vector 6: (np.int32(0), np.int32(0))\n",
            "Vector 7: (np.int32(1), np.int32(1))\n",
            "Vector 8: (np.int32(0), np.int32(1))\n",
            "Vector 9: (np.int32(0), np.int32(1))\n"
          ]
        }
      ]
    }
  ]
}