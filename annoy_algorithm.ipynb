{
  "nbformat": 4,
  "nbformat_minor": 0,
  "metadata": {
    "colab": {
      "provenance": [],
      "authorship_tag": "ABX9TyPu4T7bvdW+QdNwg4AQMHkb",
      "include_colab_link": true
    },
    "kernelspec": {
      "name": "python3",
      "display_name": "Python 3"
    },
    "language_info": {
      "name": "python"
    }
  },
  "cells": [
    {
      "cell_type": "markdown",
      "metadata": {
        "id": "view-in-github",
        "colab_type": "text"
      },
      "source": [
        "<a href=\"https://colab.research.google.com/github/shivamsri07/vectors_and_llms/blob/main/annoy_algorithm.ipynb\" target=\"_parent\"><img src=\"https://colab.research.google.com/assets/colab-badge.svg\" alt=\"Open In Colab\"/></a>"
      ]
    },
    {
      "cell_type": "code",
      "execution_count": 6,
      "metadata": {
        "id": "YA5CF2dZiaUY"
      },
      "outputs": [],
      "source": [
        "import numpy as np\n",
        "\n",
        "def get_hyperplane(p1, p2):\n",
        "    \"\"\"\n",
        "    Creates a hyperplane defined by the normal vector (p1 - p2)\n",
        "    and a midpoint. For simplicity, we can just use the normal\n",
        "    and a dot product against the midpoint to determine side.\n",
        "    \"\"\"\n",
        "    normal = p1 - p2\n",
        "    midpoint = (p1 + p2) / 2\n",
        "    # For a point x, side is determined by np.dot(x - midpoint, normal)\n",
        "    return normal, midpoint\n",
        "\n",
        "def conceptual_annoy_split_node(points_indices, all_data):\n",
        "    \"\"\"\n",
        "    Conceptually splits a node in an ANNOY tree.\n",
        "    points_indices: list of indices of points in this node.\n",
        "    all_data: the full dataset (e.g., a list or np.array of vectors).\n",
        "    \"\"\"\n",
        "    if len(points_indices) < 2: # Cannot pick two distinct points\n",
        "        return None, None, points_indices # Leaf node or too few points\n",
        "\n",
        "    # 1. Pick two random points from the current node's points\n",
        "    idx1, idx2 = np.random.choice(points_indices, 2, replace=False)\n",
        "    p1 = all_data[idx1]\n",
        "    p2 = all_data[idx2]\n",
        "\n",
        "    # 2. Create a hyperplane between them\n",
        "    normal, midpoint = get_hyperplane(p1, p2)\n",
        "\n",
        "    left_child_indices = []\n",
        "    right_child_indices = []\n",
        "\n",
        "    # 3. Divide other points\n",
        "    for idx in points_indices:\n",
        "        if idx == idx1 or idx == idx2: # Points defining the plane might be handled based on implementation\n",
        "            continue\n",
        "        point = all_data[idx]\n",
        "        # Determine which side of the hyperplane the point lies on\n",
        "        # np.dot(point - midpoint, normal) > 0 means one side, <= 0 means the other\n",
        "        if np.dot(point - midpoint, normal) > 0:\n",
        "            left_child_indices.append(idx)\n",
        "        else:\n",
        "            right_child_indices.append(idx)\n",
        "\n",
        "    # In a real implementation, the points p1 and p2 might also be assigned\n",
        "    # to one side or handled such that they don't get lost.\n",
        "    # For simplicity, they are just used to define the split here.\n",
        "    # Often, one point goes left, the other goes right, or they are added to both/neither\n",
        "    # and the remaining points are split. Let's put p1 in left, p2 in right for this concept.\n",
        "    # A robust way is to ensure all points are assigned.\n",
        "    # A simple assignment after initial split:\n",
        "    # if np.dot(p1 - midpoint, normal) > 0: left_child_indices.append(idx1)\n",
        "    # else: right_child_indices.append(idx1)\n",
        "    # if np.dot(p2 - midpoint, normal) > 0: left_child_indices.append(idx2) # This is just illustrative.\n",
        "    # else: right_child_indices.append(idx2)\n",
        "\n",
        "\n",
        "    # This is a highly simplified split. Real ANNOY handles edge cases and details more robustly.\n",
        "    # The actual split point is the hyperplane itself, not a value.\n",
        "    print(f\"Splitting with hyperplane from points {idx1} and {idx2}\")\n",
        "    print(f\"  Normal vector: {normal}\")\n",
        "    print(f\"  Midpoint: {midpoint}\")\n",
        "    print(f\"  Left child gets {len(left_child_indices)} points, Right child gets {len(right_child_indices)} points\")\n",
        "\n",
        "    return left_child_indices, right_child_indices, None # No points left if all are distributed\n",
        "\n",
        "# This conceptual function would be called recursively to build a tree.\n",
        "# A forest would involve calling this tree-building process multiple times."
      ]
    },
    {
      "cell_type": "code",
      "source": [
        "# Let's create a dummy vector set and build a simple conceptual tree layer.\n",
        "dummy_vectors = np.array([\n",
        "    [1, 1],\n",
        "    [2, 2],\n",
        "    [3, 3],\n",
        "    [4, 4],\n",
        "    [5, 5],\n",
        "    [6, 6],\n",
        "    [7, 7],\n",
        "    [8, 8],\n",
        "    [9, 9],\n",
        "    [10, 10]\n",
        "])\n",
        "\n",
        "# Indices of all points initially in the root node\n",
        "all_indices = list(range(len(dummy_vectors)))\n",
        "\n",
        "# Perform a single conceptual split on the root node\n",
        "left_indices, right_indices, remaining_indices = conceptual_annoy_split_node(all_indices, dummy_vectors)\n",
        "\n",
        "print(\"\\nAfter first split:\")\n",
        "print(f\"Left child indices: {left_indices}\")\n",
        "print(f\"Right child indices: {right_indices}\")\n",
        "print(f\"Remaining indices (should be None in this concept): {remaining_indices}\")\n",
        "\n",
        "# In a real tree, you would recursively call conceptual_annoy_split_node\n",
        "# on `left_indices` and `right_indices` until nodes are small enough (leaf nodes).\n",
        "\n",
        "# Example of a recursive call (conceptual, not full tree build):\n",
        "if left_indices is not None and len(left_indices) > 1:\n",
        "    print(\"\\nConceptually splitting the left child:\")\n",
        "    left_left, left_right, _ = conceptual_annoy_split_node(left_indices, dummy_vectors)\n",
        "    print(f\"  Left-left indices: {left_left}\")\n",
        "    print(f\"  Left-right indices: {left_right}\")\n",
        "\n",
        "if right_indices is not None and len(right_indices) > 1:\n",
        "    print(\"\\nConceptually splitting the right child:\")\n",
        "    right_left, right_right, _ = conceptual_annoy_split_node(right_indices, dummy_vectors)\n",
        "    print(f\"  Right-left indices: {right_left}\")\n",
        "    print(f\"  Right-right indices: {right_right}\")"
      ],
      "metadata": {
        "colab": {
          "base_uri": "https://localhost:8080/"
        },
        "id": "24vG64Hrjuyu",
        "outputId": "c4f500ab-2cc9-4df4-e1cb-d4b36b4ea665"
      },
      "execution_count": 9,
      "outputs": [
        {
          "output_type": "stream",
          "name": "stdout",
          "text": [
            "Splitting with hyperplane from points 2 and 6\n",
            "  Normal vector: [-4 -4]\n",
            "  Midpoint: [5. 5.]\n",
            "  Left child gets 3 points, Right child gets 5 points\n",
            "\n",
            "After first split:\n",
            "Left child indices: [0, 1, 3]\n",
            "Right child indices: [4, 5, 7, 8, 9]\n",
            "Remaining indices (should be None in this concept): None\n",
            "\n",
            "Conceptually splitting the left child:\n",
            "Splitting with hyperplane from points 0 and 3\n",
            "  Normal vector: [-3 -3]\n",
            "  Midpoint: [2.5 2.5]\n",
            "  Left child gets 1 points, Right child gets 0 points\n",
            "  Left-left indices: [1]\n",
            "  Left-right indices: []\n",
            "\n",
            "Conceptually splitting the right child:\n",
            "Splitting with hyperplane from points 9 and 4\n",
            "  Normal vector: [5 5]\n",
            "  Midpoint: [7.5 7.5]\n",
            "  Left child gets 2 points, Right child gets 1 points\n",
            "  Right-left indices: [7, 8]\n",
            "  Right-right indices: [5]\n"
          ]
        }
      ]
    }
  ]
}